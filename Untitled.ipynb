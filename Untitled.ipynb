{
 "cells": [
  {
   "cell_type": "code",
   "execution_count": 3,
   "metadata": {},
   "outputs": [
    {
     "name": "stdout",
     "output_type": "stream",
     "text": [
      "Populating the interactive namespace from numpy and matplotlib\n"
     ]
    }
   ],
   "source": [
    "# %load /Users/hwayment/ipynb_defaults.py\n",
    "%load_ext autoreload\n",
    "%autoreload 2\n",
    "\n",
    "%pylab inline\n",
    "import numpy as np\n",
    "import pandas as pd\n",
    "\n",
    "import seaborn as sns\n",
    "sns.set_style('ticks')\n",
    "sns.set_context('paper')\n",
    "\n",
    "from matplotlib.colors import LogNorm\n",
    "\n",
    "from glob import glob\n",
    "import os, sys, pickle, requests\n"
   ]
  },
  {
   "cell_type": "code",
   "execution_count": 5,
   "metadata": {},
   "outputs": [],
   "source": [
    "from RiboGraphViz import RGV"
   ]
  },
  {
   "cell_type": "code",
   "execution_count": 85,
   "metadata": {},
   "outputs": [
    {
     "data": {
      "text/plain": [
       "<matplotlib.lines.Line2D at 0x1a243b4fd0>"
      ]
     },
     "execution_count": 85,
     "metadata": {},
     "output_type": "execute_result"
    },
    {
     "data": {
      "image/png": "[encoded data removed]",
      "text/plain": [
       "<Figure size 1440x1440 with 1 Axes>"
      ]
     },
     "metadata": {},
     "output_type": "display_data"
    }
   ],
   "source": [
    "from arnie.mfe import mfe\n",
    "\n",
    "# rg_objs = []\n",
    "# for i in range(3):\n",
    "#     rand_rna = ''.join(np.random.choice(['A','C','G','U'], size=30))\n",
    "#     new_struct = mfe(rand_rna)\n",
    "    \n",
    "#     rg_objs.append(RGV(new_struct))\n",
    "\n",
    "\n",
    "figure(figsize=(20,20))\n",
    "\n",
    "xptr,yptr=0,0\n",
    "\n",
    "\n",
    "\n",
    "for i, obj in enumerate(rg_objs):\n",
    "    obj.draw(align=True, x0=xptr, y0=yptr)\n",
    "    text(xptr,yptr-5,\"HI\",fontsize=20)\n",
    "        \n",
    "    ax = gca()\n",
    "    \n",
    "    xmin, xmax = ax.get_xlim()\n",
    "    \n",
    "    xptr = xmax\n",
    "    \n",
    "ax.set_xlim([-5,xmax])\n",
    "axhline(0)\n",
    "\n",
    "    #ax.set_anchor('NW')"
   ]
  },
  {
   "cell_type": "code",
   "execution_count": 67,
   "metadata": {},
   "outputs": [
    {
     "data": {
      "text/plain": [
       "\u001b[0;31mSignature:\u001b[0m \u001b[0max\u001b[0m\u001b[0;34m.\u001b[0m\u001b[0mset_anchor\u001b[0m\u001b[0;34m(\u001b[0m\u001b[0manchor\u001b[0m\u001b[0;34m,\u001b[0m \u001b[0mshare\u001b[0m\u001b[0;34m=\u001b[0m\u001b[0;32mFalse\u001b[0m\u001b[0;34m)\u001b[0m\u001b[0;34m\u001b[0m\u001b[0;34m\u001b[0m\u001b[0m\n",
       "\u001b[0;31mDocstring:\u001b[0m\n",
       "Define the anchor location.\n",
       "\n",
       "The actual drawing area (active position) of the Axes may be smaller\n",
       "than the Bbox (original position) when a fixed aspect is required. The\n",
       "anchor defines where the drawing area will be located within the\n",
       "available space.\n",
       "\n",
       "Parameters\n",
       "----------\n",
       "anchor : 2-tuple of floats or {'C', 'SW', 'S', 'SE', ...}\n",
       "    The anchor position may be either:\n",
       "\n",
       "    - a sequence (*cx*, *cy*). *cx* and *cy* may range from 0\n",
       "      to 1, where 0 is left or bottom and 1 is right or top.\n",
       "\n",
       "    - a string using cardinal directions as abbreviation:\n",
       "\n",
       "      - 'C' for centered\n",
       "      - 'S' (south) for bottom-center\n",
       "      - 'SW' (south west) for bottom-left\n",
       "      - etc.\n",
       "\n",
       "      Here is an overview of the possible positions:\n",
       "\n",
       "      +------+------+------+\n",
       "      | 'NW' | 'N'  | 'NE' |\n",
       "      +------+------+------+\n",
       "      | 'W'  | 'C'  | 'E'  |\n",
       "      +------+------+------+\n",
       "      | 'SW' | 'S'  | 'SE' |\n",
       "      +------+------+------+\n",
       "\n",
       "share : bool, optional\n",
       "    If ``True``, apply the settings to all shared Axes.\n",
       "    Default is ``False``.\n",
       "\n",
       "See Also\n",
       "--------\n",
       "matplotlib.axes.Axes.set_aspect\n",
       "    for a description of aspect handling.\n",
       "\u001b[0;31mFile:\u001b[0m      ~/miniconda3/lib/python3.7/site-packages/matplotlib/axes/_base.py\n",
       "\u001b[0;31mType:\u001b[0m      method\n"
      ]
     },
     "metadata": {},
     "output_type": "display_data"
    }
   ],
   "source": [
    "ax.set_anchor?"
   ]
  },
  {
   "cell_type": "code",
   "execution_count": 34,
   "metadata": {},
   "outputs": [
    {
     "data": {
      "text/plain": [
       "<matplotlib.axes._subplots.AxesSubplot at 0x1a2476e8d0>"
      ]
     },
     "execution_count": 34,
     "metadata": {},
     "output_type": "execute_result"
    },
    {
     "data": {
      "image/png": "[encoded data removed]",
      "text/plain": [
       "<Figure size 432x288 with 1 Axes>"
      ]
     },
     "metadata": {},
     "output_type": "display_data"
    }
   ],
   "source": [
    "rg_objs[0].draw(align=True)"
   ]
  },
  {
   "cell_type": "code",
   "execution_count": null,
   "metadata": {},
   "outputs": [],
   "source": []
  }
 ],
 "metadata": {
  "kernelspec": {
   "display_name": "Python 3",
   "language": "python",
   "name": "python3"
  },
  "language_info": {
   "codemirror_mode": {
    "name": "ipython",
    "version": 3
   },
   "file_extension": ".py",
   "mimetype": "text/x-python",
   "name": "python",
   "nbconvert_exporter": "python",
   "pygments_lexer": "ipython3",
   "version": "3.7.3"
  }
 },
 "nbformat": 4,
 "nbformat_minor": 4
}
