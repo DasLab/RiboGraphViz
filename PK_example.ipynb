{
 "cells": [
  {
   "cell_type": "markdown",
   "id": "1f8732f1-c729-4033-88f9-3143861024a6",
   "metadata": {},
   "source": [
    "For interactive plotting require install netgraph with RCK edits.\n",
    "\n",
    "git clone https://github.com/rkretsch/netgraph.git\n",
    "\n",
    "cd netgraph\n",
    "\n",
    "python setup.py install\n",
    "\n",
    "To install RiboGraphViz\n",
    "\n",
    "git clone https://github.com/rkretsch/RiboGraphViz.git\n",
    "\n",
    "cd RiboGraphViz\n",
    "\n",
    "python setup.py install"
   ]
  },
  {
   "cell_type": "code",
   "execution_count": null,
   "id": "bf6ab223-a11d-4160-b77b-de83c7b56e9b",
   "metadata": {},
   "outputs": [],
   "source": []
  },
  {
   "cell_type": "code",
   "execution_count": 1,
   "id": "f52d6c4b-6b1d-456e-823d-e53d7b03ba06",
   "metadata": {},
   "outputs": [
    {
     "name": "stdout",
     "output_type": "stream",
     "text": [
      "Populating the interactive namespace from numpy and matplotlib\n"
     ]
    }
   ],
   "source": [
    "%load_ext autoreload\n",
    "%autoreload 2\n",
    "%matplotlib widget\n",
    "\n",
    "%pylab inline\n",
    "import networkx as nx\n",
    "from arnie.mea.mea_utils import *\n",
    "from RiboGraphViz import RGV\n",
    "from netgraph import InteractiveGraph\n",
    "\n",
    "def get_node_color(seq,colors):\n",
    "    color_dict = {}\n",
    "    for i,n in enumerate(seq):\n",
    "        if n.upper() == \"A\":\n",
    "            color_dict[i] = colors[\"A\"]\n",
    "        elif n.upper() == \"C\":\n",
    "            color_dict[i] = colors[\"C\"]\n",
    "        elif n.upper() == \"G\":\n",
    "            color_dict[i] = colors[\"G\"]\n",
    "        elif n.upper() == \"U\":\n",
    "            color_dict[i] = colors[\"U\"]\n",
    "        else:\n",
    "            color_dict[i] = colors[\"N\"]\n",
    "    return color_dict\n",
    "\n",
    "def get_node_labels(seq,gap):\n",
    "    labels = {}\n",
    "    for i in range(0,len(seq),gap):\n",
    "        labels[i] = str(i)\n",
    "    labels[0] = \"3'\"\n",
    "    labels[len(seq)-1] = \"5'\"\n",
    "    return labels\n",
    "\n",
    "\n",
    "def graph_from_seq_struct(seq,struct,with_covalent_edges=True):\n",
    "    bp_list = convert_matrix_to_bp_list(convert_dotbracket_to_matrix(struct))\n",
    "    \n",
    "    G = nx.Graph()\n",
    "    for i,n in enumerate(seq):\n",
    "        G.add_node(i,base=n)\n",
    "        if i != 0 and with_covalent_edges:\n",
    "            G.add_edge(i-1,i)\n",
    "    for bp in bp_list:\n",
    "        G.add_edge(bp[0],bp[1])\n",
    "    return G\n"
   ]
  },
  {
   "cell_type": "code",
   "execution_count": 2,
   "id": "e0a37540-dd72-4283-8ca4-177d5124345f",
   "metadata": {},
   "outputs": [
    {
     "data": {
      "application/vnd.jupyter.widget-view+json": {
       "model_id": "e0b169493a944dc5be19762355afff1e",
       "version_major": 2,
       "version_minor": 0
      },
      "text/plain": [
       "Canvas(toolbar=Toolbar(toolitems=[('Home', 'Reset original view', 'home', 'home'), ('Back', 'Back to previous …"
      ]
     },
     "metadata": {},
     "output_type": "display_data"
    }
   ],
   "source": [
    "%matplotlib widget\n",
    "\n",
    "# inputs\n",
    "seq    = \"ACGAUCGUAGCUAGCUGAUCGUGAGAGAGAGCGCAUGUCGUAGUACGUGCAU\"\n",
    "struct = \"...((((..(((....(((...)))..)))..(((...)))....))))...\"\n",
    "# drawing options\n",
    "colors = {\"A\":\"moccasin\",\"C\":\"lightblue\",\"G\":\"lightgreen\",\"U\":\"pink\",\"N\":\"lightgrey\"} # color of nucleotides\n",
    "gap = 3 # write number every gap nucleotides\n",
    "node_size = 40 # size of nucleotide circles\n",
    "edge_width = 20 # with of edges\n",
    "\n",
    "# corrections\n",
    "helices_to_flip=[[[32,33,34,35],[37,38,39,40]],[[0,1,2],[49,50,51]],[[12,13,14,15],[25,26]]]\n",
    "# list of left-right pairs where it will find the liine seperating the left and right\n",
    "# group and flip the nucleotides over that line\n",
    "\n",
    "# these slow down interactive so not included\n",
    "# node_label_offset=0 # if non zero will place label outside of nucleotide (slows down interactive!)\n",
    "# font_size=5 # changes font size\n",
    "\n",
    "# No changes needed here\n",
    "graph = graph_from_seq_struct(seq,struct)\n",
    "rgv = RGV(struct)\n",
    "coord_dict = rgv.get_coordinates(return_pos_dict=True,helices_to_flip=helices_to_flip)\n",
    "\n",
    "plot_instance = InteractiveGraph(graph,node_size=node_size,edge_width=edge_width,node_layout=coord_dict,node_color=get_node_color(seq,colors),node_labels=get_node_labels(seq,gap)) #,font_size=font_size,node_label_offset=node_label_offset\n",
    "plt.show()\n",
    "\n",
    "#interactive controls\n",
    "    # click and drug a single nucleotide\n",
    "    # hold control and click to select multiple nucleotides\n",
    "    # press x to toggle a view of what nucleotide you have selected\n",
    "        # the last nucleotide in selection is lighter because this is what you will rotate to\n",
    "    # click and drag any nucleotide in selection to move whole group\n",
    "    # hold alt for a little bit of time and selected group will rotate towards your mouse location"
   ]
  },
  {
   "cell_type": "code",
   "execution_count": 3,
   "id": "0617d51c-820b-4efd-9fb6-a3bc2cdc1dd8",
   "metadata": {},
   "outputs": [
    {
     "data": {
      "application/vnd.jupyter.widget-view+json": {
       "model_id": "243c5e858cde41b8a7666323021099c6",
       "version_major": 2,
       "version_minor": 0
      },
      "text/plain": [
       "Canvas(toolbar=Toolbar(toolitems=[('Home', 'Reset original view', 'home', 'home'), ('Back', 'Back to previous …"
      ]
     },
     "metadata": {},
     "output_type": "display_data"
    }
   ],
   "source": [
    "%matplotlib widget\n",
    "\n",
    "# inputs\n",
    "seq    = \"ggccggcatggtcccagcctcctcgctggcgccggctgggcaacauuccgaggggaccguccccucgguaauggcgaaugggaccca\"\n",
    "struct = \"[[[[[[[..((((((((((........)))]]]]]]]......(((((((((((((...))))))))).)))).....)))))))..\"\n",
    "\n",
    "# drawing options\n",
    "colors = {\"A\":\"moccasin\",\"C\":\"lightblue\",\"G\":\"lightgreen\",\"U\":\"pink\",\"N\":\"lightgrey\"} # color of nucleotides\n",
    "gap = 3 # write number every gap nucleotides\n",
    "node_size = 40 # size of nucleotide circles\n",
    "edge_width = 20 # with of edges\n",
    "\n",
    "# corrections\n",
    "helices_to_flip = [[[56,57],[57,58]],[list(range(19,23)),list(range(23,27))]]\n",
    "# list of left-right pairs where it will find the liine seperating the left and right\n",
    "# group and flip the nucleotides over that line\n",
    "move_coord_groups = [[(-7,8),list(range(16,30))]]\n",
    "# list of offset coordinatates to move paired with list of nucleotides to move\n",
    "rotate_groups = [[150,list(range(16,30))]]\n",
    "# list of rotation angle to rotate paired with list of nucleotides to move\n",
    "\n",
    "# these slow down interactive so not included\n",
    "# node_label_offset=0 # if non zero will place label outside of nucleotide (slows down interactive!)\n",
    "# font_size=5 # changes font size\n",
    "\n",
    "# No changes needed here\n",
    "graph = graph_from_seq_struct(seq,struct)\n",
    "rgv = RGV(struct)\n",
    "coord_dict = rgv.get_coordinates(return_pos_dict=True,helices_to_flip=helices_to_flip,\n",
    "                                move_coord_groups=move_coord_groups,rotate_groups=rotate_groups)\n",
    "\n",
    "plot_instance = InteractiveGraph(graph,node_size=node_size,edge_width=edge_width,node_layout=coord_dict,node_color=get_node_color(seq,colors),node_labels=get_node_labels(seq,gap)) #,font_size=font_size,node_label_offset=node_label_offset\n",
    "plt.show()\n",
    "\n",
    "#interactive controls\n",
    "    # click and drug a single nucleotide\n",
    "    # hold control and click to select multiple nucleotides\n",
    "    # press x to toggle a view of what nucleotide you have selected\n",
    "        # the last nucleotide in selection is lighter because this is what you will rotate to\n",
    "    # click and drag any nucleotide in selection to move whole group\n",
    "    # hold alt for a little bit of time and selected group will rotate towards your mouse location"
   ]
  },
  {
   "cell_type": "code",
   "execution_count": null,
   "id": "3dbd8da2-2766-4bfc-a574-45001413d482",
   "metadata": {},
   "outputs": [],
   "source": []
  }
 ],
 "metadata": {
  "kernelspec": {
   "display_name": "Python 3",
   "language": "python",
   "name": "python3"
  },
  "language_info": {
   "codemirror_mode": {
    "name": "ipython",
    "version": 3
   },
   "file_extension": ".py",
   "mimetype": "text/x-python",
   "name": "python",
   "nbconvert_exporter": "python",
   "pygments_lexer": "ipython3",
   "version": "3.8.5"
  }
 },
 "nbformat": 4,
 "nbformat_minor": 5
}
